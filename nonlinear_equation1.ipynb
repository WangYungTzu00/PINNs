{
  "nbformat": 4,
  "nbformat_minor": 0,
  "metadata": {
    "colab": {
      "provenance": []
    },
    "kernelspec": {
      "name": "python3",
      "display_name": "Python 3"
    },
    "language_info": {
      "name": "python"
    }
  },
  "cells": [
    {
      "cell_type": "markdown",
      "source": [
        "#  Consider the following equation\n",
        "\n",
        "Consider the following differential equation:\n",
        "\n",
        "$$\n",
        "\\begin{aligned}\n",
        "-\\epsilon^2 U''(x) + e^{U(x)}-e^{-U(x)} &= 0 &  x \\text{ in } (0, 1), \\\\\n",
        "U(0) &= 0, \\\\\n",
        "U(1) &= μ+  \\int_{0}^{1} U(y) \\, dy.\n",
        "\\end{aligned}\n",
        "$$\n",
        "\n"
      ],
      "metadata": {
        "id": "EeSHwnblDQNl"
      }
    },
    {
      "cell_type": "code",
      "source": [
        "#!pip install pyDOE"
      ],
      "metadata": {
        "id": "cEWIVt7HQ2JD"
      },
      "execution_count": null,
      "outputs": []
    },
    {
      "cell_type": "code",
      "source": [
        "import torch\n",
        "print('torch version = ', torch.__version__)\n",
        "import torch.nn as nn"
      ],
      "metadata": {
        "colab": {
          "base_uri": "https://localhost:8080/"
        },
        "id": "9S18kiqOIegV",
        "outputId": "3b3179df-a248-4ae9-aa28-f8a2989edd1c"
      },
      "execution_count": null,
      "outputs": [
        {
          "output_type": "stream",
          "name": "stdout",
          "text": [
            "torch version =  2.2.1+cu121\n"
          ]
        }
      ]
    },
    {
      "cell_type": "code",
      "source": [
        "import numpy as np\n",
        "import matplotlib.pyplot as plt\n",
        "import math\n",
        "from numpy import random\n",
        "\n",
        "from pyDOE import lhs\n",
        "\n",
        "import numpy as np\n",
        "from numpy.fft import fft,ifft,fftshift\n",
        "\n",
        "#CUDA support\n",
        "device = torch.device('cpu')\n",
        "#device = torch.device('cuda:0')\n",
        "print('device= ', device)\n",
        "\n",
        "np.random.seed(1234) #生成指定隨機數\n",
        "torch.set_default_dtype(torch.float64) #設置浮點類型\n"
      ],
      "metadata": {
        "colab": {
          "base_uri": "https://localhost:8080/"
        },
        "id": "NV3DkzdqIg9-",
        "outputId": "876334d3-e488-4cd9-851e-d84774793892"
      },
      "execution_count": null,
      "outputs": [
        {
          "output_type": "stream",
          "name": "stdout",
          "text": [
            "device=  cpu\n"
          ]
        }
      ]
    },
    {
      "cell_type": "code",
      "source": [
        "class Plain(nn.Module):\n",
        "\n",
        "  def __init__(self, in_dim, h_dim , out_dim):\n",
        "    super().__init__()\n",
        "    self.ln1 = nn.Linear( in_dim , h_dim )\n",
        "    self.act1 = nn.Sigmoid()\n",
        "    self.ln2 = nn.Linear( h_dim , out_dim , bias = False )\n",
        "\n",
        "  def forward(self, x):\n",
        "    out = self.ln1(x)\n",
        "    out = self.act1(out)\n",
        "    out = self.ln2(out)\n",
        "    return out\n",
        "\n",
        "\n",
        "def count_parameters(model, requires_grad = True):\n",
        "  \"\"\"Count trainable parameters for a nn.Module.\"\"\"\n",
        "  if requires_grad:\n",
        "      return sum(p.numel() for p in model.parameters() if p.requires_grad)\n",
        "  return sum(p.numel() for p in model.parameters())"
      ],
      "metadata": {
        "id": "mRjGK0YDITga"
      },
      "execution_count": null,
      "outputs": []
    },
    {
      "cell_type": "markdown",
      "source": [
        "# **Boundary conditions**\n",
        "\n",
        "$$\n",
        "U(0) = 0 \\text{ and, }U(1) = \\mu + \\int_{0}^{1}U(y)\\text{d}y\n",
        "$$"
      ],
      "metadata": {
        "id": "QC2puSUWUin3"
      }
    },
    {
      "cell_type": "markdown",
      "source": [
        "# **Loss function**\n",
        "\n",
        "$$\n",
        "\\text{L} = λ_1 * \\text{pde_loss} + λ_2 * (U(0)-0)^2 + λ_3 * [U(1) - ( \\mu + \\int_{0}^{1} U(y)\\text{d}y) ]^2\n",
        "$$\n",
        "\n",
        "$$\n",
        "\\text{pde_loss } = -ϵ^2  U''(x) + e^{U(x)}-e^{-U(x)}\n",
        "$$\n",
        "$$\n",
        "λ_1,λ_2,λ_3 \\text{  is weight}\n",
        "$$"
      ],
      "metadata": {
        "id": "wXxwAY0KVRpD"
      }
    },
    {
      "cell_type": "code",
      "source": [
        "def loss(model, X_inner ):\n",
        "  #方程參數 ϵ = 10**(-1)\n",
        "  e = 10**(-1)\n",
        "  #e = 1\n",
        "  #權重\n",
        "  lambda_1=1.0\n",
        "  lambda_2=1.0\n",
        "  lambda_3=1.0\n",
        "  inner_pred = model(X_inner)\n",
        "  dudX = torch.autograd.grad(\n",
        "      inner_pred, X_inner,\n",
        "      grad_outputs=torch.ones_like(inner_pred),\n",
        "      retain_graph=True,\n",
        "      create_graph=True\n",
        "  )[0]  #u_x and u_y =u'\n",
        "  dudX_xX = torch.autograd.grad(\n",
        "      dudX[:,0], X_inner,\n",
        "      grad_outputs=torch.ones_like(dudX[:,0]),\n",
        "      retain_graph=True,\n",
        "      create_graph=True\n",
        "  )[0]  #u_xx and u_yy =u''\n",
        "  laplace = dudX_xX\n",
        "\n",
        "  #先假設方程參數mu = 1來看\n",
        "  mu = 1\n",
        "  residual = -e**2 * laplace[:, 0] + torch.exp(inner_pred.squeeze()) - torch.exp(-inner_pred.squeeze())\n",
        "  inner_loss = lambda_1 * torch.mean(residual**2) #計算殘差平方和，及內部損失\n",
        "\n",
        "  #邊界條件\n",
        "  alpha = 0 #U(0)=α\n",
        "  beta = mu + torch.mean(inner_pred) #U(1)= β\n",
        "\n",
        "  #計算邊界處的值\n",
        "  u_0 = model(torch.tensor([[0.0]], device=device)) #U(0)\n",
        "  u_1 = model(torch.tensor([[1.0]], device=device)) #U(1)\n",
        "\n",
        "  #計算邊界損失\n",
        "  boundary_loss = lambda_2 * (u_0 - alpha)**2 + lambda_3 * (u_1 - beta)**2\n",
        "\n",
        "  #總損失\n",
        "  loss = inner_loss + boundary_loss\n",
        "\n",
        "  return loss , inner_loss , boundary_loss , inner_pred\n"
      ],
      "metadata": {
        "id": "WtNYDEh3a9Vq"
      },
      "execution_count": null,
      "outputs": []
    },
    {
      "cell_type": "markdown",
      "source": [
        "# **Training points**\n"
      ],
      "metadata": {
        "id": "_SOAo95Ngtux"
      }
    },
    {
      "cell_type": "code",
      "source": [
        "#number of grid points\n",
        "\n",
        "N_training = 1000\n",
        "X_training = lhs(1, N_training)\n",
        "\n",
        "X_inner_torch = torch.from_numpy(X_training).requires_grad_(True).double().to(device)"
      ],
      "metadata": {
        "id": "VZHllALAhN50"
      },
      "execution_count": null,
      "outputs": []
    },
    {
      "cell_type": "markdown",
      "source": [
        "# **Validation points**"
      ],
      "metadata": {
        "id": "0gNqOngyhP9f"
      }
    },
    {
      "cell_type": "code",
      "source": [
        "#validation set 驗證集\n",
        "N_valid = N_training\n",
        "X_valid = lhs(1, N_valid)\n",
        "\n",
        "X_valid_inner_torch = torch.from_numpy(X_valid).requires_grad_(True).double().to(device)"
      ],
      "metadata": {
        "id": "WafTiblqhToZ"
      },
      "execution_count": null,
      "outputs": []
    },
    {
      "cell_type": "markdown",
      "source": [
        "# **The Network model**"
      ],
      "metadata": {
        "id": "WzuMByV-hVWH"
      }
    },
    {
      "cell_type": "code",
      "source": [
        "#神經網路隱藏層的神經元數量為...\n",
        "N_neurons = 20\n",
        "\n",
        "#single-layer model設置了一個單層神經網路模型\n",
        "#輸入and 輸出 維度=1\n",
        "model = Plain(1, N_neurons, 1).to(device)\n",
        "print(model)\n",
        "print(f\"Number of paramters: {count_parameters(model)}\")"
      ],
      "metadata": {
        "colab": {
          "base_uri": "https://localhost:8080/"
        },
        "id": "18utNt2vhVDM",
        "outputId": "a11990c8-379f-4012-c4e0-56a66d481467"
      },
      "execution_count": null,
      "outputs": [
        {
          "output_type": "stream",
          "name": "stdout",
          "text": [
            "Plain(\n",
            "  (ln1): Linear(in_features=1, out_features=20, bias=True)\n",
            "  (act1): Sigmoid()\n",
            "  (ln2): Linear(in_features=20, out_features=1, bias=False)\n",
            ")\n",
            "Number of paramters: 60\n"
          ]
        }
      ]
    },
    {
      "cell_type": "markdown",
      "source": [
        "# **Training with LBFGs optimizer**"
      ],
      "metadata": {
        "id": "_ongUerqhfBh"
      }
    },
    {
      "cell_type": "code",
      "source": [
        "optimizerLBFGS = torch.optim.LBFGS(\n",
        "    model.parameters(),\n",
        "    lr=0.1, # 學習率\n",
        "    max_iter=2000, #最大迭代次數\n",
        "    max_eval=2000, #最大函數評估次數\n",
        "    history_size=50, #更新 history_size 預設為100\n",
        "    tolerance_grad=-np.finfo(float).eps,#一階最優性的終止容差（默認值：1e-5）;加(-)號可迭帶到最大迭帶次數，因為值不會小於要停止的值\n",
        "    tolerance_change=-np.finfo(float).eps, #函數值/參數更改的終止容差（默認值：1e-9 ）; 同上\n",
        "    line_search_fn=\"strong_wolfe\"       # can be \"strong_wolfe\"\n",
        ")"
      ],
      "metadata": {
        "id": "IvWgbuxcheyj"
      },
      "execution_count": null,
      "outputs": []
    },
    {
      "cell_type": "code",
      "source": [
        "def loss_func_lbfgs():\n",
        "\n",
        "    optimizerLBFGS.zero_grad() # L-BFGS的基本思想是只保存最近的m次迭代信息，从而大大减少數據的儲存空間\n",
        "    global itera\n",
        "    itera += 1\n",
        "\n",
        "    lossLBFGS = loss(model, X_inner_torch)[0]\n",
        "    lossLBFGS_valid = loss(model, X_valid_inner_torch)[0]\n",
        "\n",
        "    if itera % 200 == 0: # 一次迭代----\n",
        "        print(\n",
        "            'Iter %5d, LossLBFGS: %.5e, Loss_Valid: %.5e' % (itera, lossLBFGS.item(), lossLBFGS_valid.item())\n",
        "            )\n",
        "\n",
        "    savedloss.append(lossLBFGS.item())\n",
        "    savedloss_valid.append(lossLBFGS_valid.item())\n",
        "\n",
        "    lossLBFGS.backward(retain_graph = True)\n",
        "\n",
        "    return lossLBFGS"
      ],
      "metadata": {
        "id": "ctogYddqhnGz"
      },
      "execution_count": null,
      "outputs": []
    },
    {
      "cell_type": "code",
      "source": [
        "itera = 0\n",
        "\n",
        "savedloss = []\n",
        "savedloss_valid = []"
      ],
      "metadata": {
        "id": "TAyoI9GfhpuB"
      },
      "execution_count": null,
      "outputs": []
    },
    {
      "cell_type": "code",
      "source": [
        "%%time\n",
        "\n",
        "model.train()\n",
        "\n",
        "lossLBFGS = loss(model, X_inner_torch)[0]\n",
        "lossLBFGS_valid = loss(model, X_valid_inner_torch)[0]\n",
        "\n",
        "\n",
        "print('Iter %5d, LossLBFGS: %.5e, Loss_Valid: %.5e' % (itera, lossLBFGS.item(), lossLBFGS_valid.item()))\n",
        "\n",
        "savedloss.append(lossLBFGS.item())\n",
        "savedloss_valid.append(lossLBFGS_valid.item())\n",
        "\n",
        "# Backward and optimize\n",
        "optimizerLBFGS.step(loss_func_lbfgs)"
      ],
      "metadata": {
        "colab": {
          "base_uri": "https://localhost:8080/"
        },
        "id": "KCERbRL3hqh4",
        "outputId": "8486946a-05a8-4cda-a5a2-7bc27fc39f68"
      },
      "execution_count": null,
      "outputs": [
        {
          "output_type": "stream",
          "name": "stdout",
          "text": [
            "Iter     0, LossLBFGS: 1.46181e+00, Loss_Valid: 1.46181e+00\n",
            "Iter   200, LossLBFGS: 7.49778e-04, Loss_Valid: 7.51197e-04\n",
            "Iter   400, LossLBFGS: 1.13502e-04, Loss_Valid: 1.13629e-04\n",
            "Iter   600, LossLBFGS: 6.52323e-05, Loss_Valid: 6.52577e-05\n",
            "Iter   800, LossLBFGS: 2.97706e-05, Loss_Valid: 2.97468e-05\n",
            "Iter  1000, LossLBFGS: 9.89274e-06, Loss_Valid: 9.87642e-06\n",
            "Iter  1200, LossLBFGS: 8.32591e-06, Loss_Valid: 8.30682e-06\n",
            "Iter  1400, LossLBFGS: 7.39051e-06, Loss_Valid: 7.37619e-06\n",
            "Iter  1600, LossLBFGS: 7.06283e-06, Loss_Valid: 7.05111e-06\n",
            "Iter  1800, LossLBFGS: 6.74840e-06, Loss_Valid: 6.73639e-06\n",
            "Iter  2000, LossLBFGS: 6.22791e-06, Loss_Valid: 6.21909e-06\n",
            "CPU times: user 12.2 s, sys: 55.1 ms, total: 12.3 s\n",
            "Wall time: 12.4 s\n"
          ]
        },
        {
          "output_type": "execute_result",
          "data": {
            "text/plain": [
              "tensor([[1.4618]], grad_fn=<AddBackward0>)"
            ]
          },
          "metadata": {},
          "execution_count": 34
        }
      ]
    },
    {
      "cell_type": "markdown",
      "source": [
        "# **Plotting the evolution of loss**"
      ],
      "metadata": {
        "id": "LGxVcX4xhv5A"
      }
    },
    {
      "cell_type": "code",
      "source": [
        "start = 0\n",
        "end = itera\n",
        "idx = list(range(start, end, 1))\n",
        "\n",
        "plt.figure()\n",
        "plt.ylim(10**(-8), 10**5)\n",
        "plt.yscale(\"log\")\n",
        "plt.plot(idx, savedloss[start:end], label = \"training loss\")\n",
        "plt.plot(idx, savedloss_valid[start:end], label = \"validation loss\")\n",
        "plt.xlabel('epoch')\n",
        "plt.ylabel('total loss')\n",
        "plt.legend()\n",
        "plt.show()"
      ],
      "metadata": {
        "colab": {
          "base_uri": "https://localhost:8080/",
          "height": 449
        },
        "id": "6zdBE5vJhzn1",
        "outputId": "4a61649d-683a-4923-c927-a3eb4e402c9a"
      },
      "execution_count": null,
      "outputs": [
        {
          "output_type": "display_data",
          "data": {
            "text/plain": [
              "<Figure size 640x480 with 1 Axes>"
            ],
            "image/png": "[encoded data removed]"
          },
          "metadata": {}
        }
      ]
    },
    {
      "cell_type": "code",
      "source": [
        "# number of testing points\n",
        "N_test = 1000\n",
        "\n",
        "# Error at the interior points\n",
        "x_test = lhs(1, N_test)\n",
        "\n",
        "\n",
        "x_test_torch = torch.tensor(x_test).double().to(device)\n",
        "u_pred = model(x_test_torch).detach().cpu().numpy()\n",
        "\n",
        "\n",
        "# set up a figure twice as wide as it is tall\n",
        "fig = plt.figure(figsize=plt.figaspect(0.3))\n",
        "\n",
        "#===============\n",
        "#  First subplot\n",
        "#===============\n",
        "# set up the axes for the first plot\n",
        "ax1 = fig.add_subplot(1, 2, 1)\n",
        "ax1.scatter(x_test, u_pred, s=0.1, label=\"predict\")\n",
        "ax1.set_xlabel(\"$x$\")\n",
        "ax1.legend()"
      ],
      "metadata": {
        "colab": {
          "base_uri": "https://localhost:8080/",
          "height": 466
        },
        "id": "5k35z6NZK2kJ",
        "outputId": "dada81ea-5c3a-41b4-b81e-2a333e5378ac"
      },
      "execution_count": null,
      "outputs": [
        {
          "output_type": "execute_result",
          "data": {
            "text/plain": [
              "<matplotlib.legend.Legend at 0x7cb4a15b9f90>"
            ]
          },
          "metadata": {},
          "execution_count": 36
        },
        {
          "output_type": "display_data",
          "data": {
            "text/plain": [
              "<Figure size 1600x480 with 1 Axes>"
            ],
            "image/png": "[encoded data removed]"
          },
          "metadata": {}
        }
      ]
    }
  ]
}