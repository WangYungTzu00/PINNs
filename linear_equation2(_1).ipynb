{
  "nbformat": 4,
  "nbformat_minor": 0,
  "metadata": {
    "colab": {
      "provenance": []
    },
    "kernelspec": {
      "name": "python3",
      "display_name": "Python 3"
    },
    "language_info": {
      "name": "python"
    }
  },
  "cells": [
    {
      "cell_type": "markdown",
      "source": [
        "#  Consider the following equation\n",
        "\n",
        "Consider the following differential equation:\n",
        "\n",
        "$$\n",
        "\\begin{aligned}\n",
        "-\\epsilon^2 U''(x) + U(x) &= 0 & x \\text{ in } (0, 1), \\\\\n",
        "U(0) &= 0, \\\\\n",
        "U(1) &= k +  \\int_{0}^{1} U^2(y) \\, dy.\n",
        "\\end{aligned}\n",
        "$$\n",
        "\n"
      ],
      "metadata": {
        "id": "EeSHwnblDQNl"
      }
    },
    {
      "cell_type": "code",
      "source": [
        "#!pip install pyDOE"
      ],
      "metadata": {
        "id": "cEWIVt7HQ2JD"
      },
      "execution_count": null,
      "outputs": []
    },
    {
      "cell_type": "code",
      "source": [
        "import torch\n",
        "print('torch version = ', torch.__version__)\n",
        "import torch.nn as nn"
      ],
      "metadata": {
        "colab": {
          "base_uri": "https://localhost:8080/"
        },
        "id": "9S18kiqOIegV",
        "outputId": "d67d4b43-d217-42ef-d49f-95ff0c21f646"
      },
      "execution_count": null,
      "outputs": [
        {
          "output_type": "stream",
          "name": "stdout",
          "text": [
            "torch version =  2.2.1+cu121\n"
          ]
        }
      ]
    },
    {
      "cell_type": "code",
      "source": [
        "import numpy as np\n",
        "import matplotlib.pyplot as plt\n",
        "import math\n",
        "from numpy import random\n",
        "\n",
        "from pyDOE import lhs\n",
        "\n",
        "import numpy as np\n",
        "from numpy.fft import fft,ifft,fftshift\n",
        "\n",
        "#CUDA support\n",
        "device = torch.device('cpu')\n",
        "#device = torch.device('cuda:0')\n",
        "print('device= ', device)\n",
        "\n",
        "np.random.seed(1234) #生成指定隨機數\n",
        "torch.set_default_dtype(torch.float64) #設置浮點類型\n"
      ],
      "metadata": {
        "colab": {
          "base_uri": "https://localhost:8080/"
        },
        "id": "NV3DkzdqIg9-",
        "outputId": "0606d5a2-e2bc-4518-acbf-413113d9f0a0"
      },
      "execution_count": null,
      "outputs": [
        {
          "output_type": "stream",
          "name": "stdout",
          "text": [
            "device=  cpu\n"
          ]
        }
      ]
    },
    {
      "cell_type": "code",
      "source": [
        "class Plain(nn.Module):\n",
        "\n",
        "  def __init__(self, in_dim, h_dim , out_dim):\n",
        "    super().__init__()\n",
        "    self.ln1 = nn.Linear( in_dim , h_dim )\n",
        "    self.act1 = nn.Sigmoid()\n",
        "    self.ln2 = nn.Linear( h_dim , out_dim , bias = False )\n",
        "\n",
        "  def forward(self, x):\n",
        "    out = self.ln1(x)\n",
        "    out = self.act1(out)\n",
        "    out = self.ln2(out)\n",
        "    return out\n",
        "\n",
        "\n",
        "def count_parameters(model, requires_grad = True):\n",
        "  \"\"\"Count trainable parameters for a nn.Module.\"\"\"\n",
        "  if requires_grad:\n",
        "      return sum(p.numel() for p in model.parameters() if p.requires_grad)\n",
        "  return sum(p.numel() for p in model.parameters())"
      ],
      "metadata": {
        "id": "mRjGK0YDITga"
      },
      "execution_count": null,
      "outputs": []
    },
    {
      "cell_type": "markdown",
      "source": [
        "# **Boundary conditions**\n",
        "\n",
        "$$\n",
        "U(0) = 0 \\text{ and, }U(1) = \\text{k} + \\int_{0}^{1}U^2(y)\\text{d}y\n",
        "$$"
      ],
      "metadata": {
        "id": "QC2puSUWUin3"
      }
    },
    {
      "cell_type": "markdown",
      "source": [
        "# **Loss function**\n",
        "\n",
        "$$\n",
        "\\text{L} = λ_1 * \\text{pde_loss} + λ_2 * (U(0)-0)^2 + λ_3 * (U(1) - \\text{k} - \\int_{0}^{1} U^2(y)\\text{d}y\n",
        "$$\n",
        "\n",
        "$$\n",
        "\\text{pde_loss } = -ϵ^2  U''(x) + U(x)\n",
        "$$\n",
        "$$\n",
        "λ_1,λ_2,λ_3 \\text{  is weight}\n",
        "$$"
      ],
      "metadata": {
        "id": "wXxwAY0KVRpD"
      }
    },
    {
      "cell_type": "code",
      "source": [
        "def loss(model, X_inner ):\n",
        "  #方程參數 ϵ = 10**(-1)\n",
        "  e = 10**(-1)\n",
        "  #e = 1\n",
        "  #權重\n",
        "  lambda_1=1.0\n",
        "  lambda_2=1.0\n",
        "  lambda_3=1.0\n",
        "  inner_pred = model(X_inner)\n",
        "  dudX = torch.autograd.grad(\n",
        "      inner_pred, X_inner,\n",
        "      grad_outputs=torch.ones_like(inner_pred),\n",
        "      retain_graph=True,\n",
        "      create_graph=True\n",
        "  )[0]  #u_x and u_y =u'\n",
        "  dudX_xX = torch.autograd.grad(\n",
        "      dudX[:,0], X_inner,\n",
        "      grad_outputs=torch.ones_like(dudX[:,0]),\n",
        "      retain_graph=True,\n",
        "      create_graph=True\n",
        "  )[0]  #u_xx and u_yy =u''\n",
        "  laplace = dudX_xX\n",
        "\n",
        "  #先假設方程參數k = 1來看\n",
        "  k = 0\n",
        "  residual = -e**2 * laplace[:,0] + inner_pred.squeeze()\n",
        "  inner_loss = lambda_1 * torch.mean(residual**2) #計算殘差平方和，及內部損失\n",
        "\n",
        "  #邊界條件\n",
        "  alpha = 0 #U(0)=α\n",
        "  beta = k + torch.mean(inner_pred**2) #U(1)= β\n",
        "  #beta = 40\n",
        "  #beta = 600\n",
        "\n",
        "  #計算邊界處的值\n",
        "  u_0 = model(torch.tensor([[0.0]], device=device)) #U(0)\n",
        "  u_1 = model(torch.tensor([[1.0]], device=device)) #U(1)\n",
        "\n",
        "  #計算邊界損失\n",
        "  boundary_loss = lambda_2 * (u_0 - alpha)**2 + lambda_3 * (u_1 - beta)**2\n",
        "\n",
        "  #總損失\n",
        "  loss = inner_loss +boundary_loss\n",
        "\n",
        "  return loss , inner_pred\n"
      ],
      "metadata": {
        "id": "WtNYDEh3a9Vq"
      },
      "execution_count": null,
      "outputs": []
    },
    {
      "cell_type": "markdown",
      "source": [
        "# **Exact solution**\n",
        "\n",
        "$$\n",
        "U(x) = Ae^{\\frac{x}{\\epsilon}} - Ae^{-\\frac{x}{\\epsilon}}\n",
        "$$\n",
        "\n",
        "$$\n",
        "A_1 = \\frac{2\\sinh\\left(\\frac{1}{\\epsilon}\\right) + \\sqrt{4\\sinh^2\\left(\\frac{1}{\\epsilon}\\right) - 4k\\epsilon \\sinh\\left(\\frac{2}{\\epsilon}\\right) + 8k}}{2\\epsilon \\sinh\\left(\\frac{2}{\\epsilon}\\right) - 4}\n",
        "\\\\\n",
        "A_2 = \\frac{2\\sinh\\left(\\frac{1}{\\epsilon}\\right) - \\sqrt{4\\sinh^2\\left(\\frac{1}{\\epsilon}\\right) - 4k\\epsilon \\sinh\\left(\\frac{2}{\\epsilon}\\right) + 8k}}{2\\epsilon \\sinh\\left(\\frac{2}{\\epsilon}\\right) - 4}\n",
        "$$\n",
        "\\\n",
        "$$\n",
        "\\text{if } k = 0,\n",
        "$$\n",
        "$$\n",
        "A = \\begin{cases}\n",
        "0, &  \\\\\n",
        "\\frac{2\\sinh\\left(\\frac{1}{\\epsilon}\\right)}{\\epsilon\\sinh\\left(\\frac{2}{\\epsilon}\\right)-2}, & \\text{otherwise}.\n",
        "\\end{cases}\n",
        "$$\n"
      ],
      "metadata": {
        "id": "i1jQXzZyz_lg"
      }
    },
    {
      "cell_type": "code",
      "source": [
        "def exact_u(x):\n",
        "  #方程參數與上面相同\n",
        "  e = 10**(-1)\n",
        "  #e = 1\n",
        "  k = 0\n",
        "  # A_1 = np.sqrt(-(k - 2*np.sinh(1/e)) / (e * np.sinh(2/e) - 2))\n",
        "  # A_1 = (np.sinh(1/e) + np.sqrt(np.sinh(1/e)**2 - k * e * np.sinh(2/e) + 2*k)) / (e * np.sinh(2/e) - 2)\n",
        "  # A_2 = -np.sqrt(-(k - 2*np.sinh(1/e)) / (e * np.sinh(2/e) - 2))\n",
        "  A_1 = (np.sinh(1/e) + np.sqrt(np.sinh(1/e)**2 - k * e * np.sinh(2/e) + 2*k)) / (e * np.sinh(2/e) - 2)\n",
        "  A_2 = (np.sinh(1/e) - np.sqrt(np.sinh(1/e)**2 - k * e * np.sinh(2/e) + 2*k)) / (e * np.sinh(2/e) - 2)\n",
        "  #計算精確解，先用A_1來試試看\n",
        "  #eu = A_1 * (np.exp(x/e) - np.exp(-x/e))\n",
        "  eu1 = 2 * A_1 * np.sinh(x/e)\n",
        "  eu2 = 2 * A_2 * np.sinh(x/e)\n",
        "\n",
        "\n",
        "  return eu1 , eu2"
      ],
      "metadata": {
        "id": "H4z2OklSgYOt"
      },
      "execution_count": null,
      "outputs": []
    },
    {
      "cell_type": "code",
      "source": [
        "  e = 10**(-1)\n",
        "  k = 0\n",
        "  # A_1 = np.sqrt(-(k - 2*np.sinh(1/e)) / (e * np.sinh(2/e) - 2))\n",
        "  # print(np.exp(1/e))\n",
        "  # print(np.sqrt(20) * np.exp(5))\n",
        "\n",
        "  A_1 = (np.sinh(1/e) + np.sqrt(np.sinh(1/e)**2 - k * e * np.sinh(2/e) + 2*k)) / (e * np.sinh(2/e) - 2)\n",
        "  A_2 = (2*np.sinh(1/e) + np.sqrt(4*np.sinh(1/e)**2 - 4*k * e * np.sinh(2/e) + 8*k)) / (2*e * np.sinh(2/e) - 4)\n",
        "  A_3 = (2*np.sinh(1/e) - np.sqrt(4*np.sinh(1/e)**2 - 4*k * e * np.sinh(2/e) + 8*k)) / (2*e * np.sinh(2/e) - 4)\n",
        "  A_4 = 2 * A_2 * np.sinh(1/e)\n",
        "  print(A_4)\n",
        "  print(A_2)\n",
        "  print(A_3)"
      ],
      "metadata": {
        "id": "wbVdGAdBI5H0",
        "colab": {
          "base_uri": "https://localhost:8080/"
        },
        "outputId": "2e6d54ca-b159-4917-8cab-056558ff7bf5"
      },
      "execution_count": null,
      "outputs": [
        {
          "output_type": "stream",
          "name": "stdout",
          "text": [
            "20.000001566476882\n",
            "0.0009079986682391622\n",
            "0.0\n"
          ]
        }
      ]
    },
    {
      "cell_type": "markdown",
      "source": [
        "# **Training points**\n"
      ],
      "metadata": {
        "id": "_SOAo95Ngtux"
      }
    },
    {
      "cell_type": "code",
      "source": [
        "#number of grid points\n",
        "\n",
        "N_training = 1000\n",
        "X_training = lhs(1, N_training)\n",
        "\n",
        "X_inner_torch = torch.from_numpy(X_training).requires_grad_(True).double().to(device)"
      ],
      "metadata": {
        "id": "VZHllALAhN50"
      },
      "execution_count": null,
      "outputs": []
    },
    {
      "cell_type": "markdown",
      "source": [
        "# **Validation points**"
      ],
      "metadata": {
        "id": "0gNqOngyhP9f"
      }
    },
    {
      "cell_type": "code",
      "source": [
        "#validation set 驗證集\n",
        "N_valid = N_training\n",
        "X_valid = lhs(1, N_valid)\n",
        "\n",
        "X_valid_inner_torch = torch.from_numpy(X_valid).requires_grad_(True).double().to(device)"
      ],
      "metadata": {
        "id": "WafTiblqhToZ"
      },
      "execution_count": null,
      "outputs": []
    },
    {
      "cell_type": "markdown",
      "source": [
        "# **The Network model**"
      ],
      "metadata": {
        "id": "WzuMByV-hVWH"
      }
    },
    {
      "cell_type": "code",
      "source": [
        "#神經網路隱藏層的神經元數量為...\n",
        "N_neurons = 20\n",
        "\n",
        "#single-layer model設置了一個單層神經網路模型\n",
        "#輸入and 輸出 維度=1\n",
        "model = Plain(1, N_neurons, 1).to(device)\n",
        "print(model)\n",
        "print(f\"Number of paramters: {count_parameters(model)}\")"
      ],
      "metadata": {
        "id": "18utNt2vhVDM",
        "colab": {
          "base_uri": "https://localhost:8080/"
        },
        "outputId": "21e98d4d-f70c-4720-de5e-b77e1bd5e229"
      },
      "execution_count": null,
      "outputs": [
        {
          "output_type": "stream",
          "name": "stdout",
          "text": [
            "Plain(\n",
            "  (ln1): Linear(in_features=1, out_features=20, bias=True)\n",
            "  (act1): Sigmoid()\n",
            "  (ln2): Linear(in_features=20, out_features=1, bias=False)\n",
            ")\n",
            "Number of paramters: 60\n"
          ]
        }
      ]
    },
    {
      "cell_type": "markdown",
      "source": [
        "# **Training with LBFGs optimizer**"
      ],
      "metadata": {
        "id": "_ongUerqhfBh"
      }
    },
    {
      "cell_type": "code",
      "source": [
        "optimizerLBFGS = torch.optim.LBFGS(\n",
        "    model.parameters(),\n",
        "    lr=0.1, # 學習率\n",
        "    max_iter=2000, #最大迭代次數\n",
        "    max_eval=2000, #最大函數評估次數\n",
        "    history_size=50, #更新 history_size 預設為100\n",
        "    tolerance_grad=-np.finfo(float).eps,#一階最優性的終止容差（默認值：1e-5）;加(-)號可迭帶到最大迭帶次數，因為值不會小於要停止的值\n",
        "    tolerance_change=-np.finfo(float).eps, #函數值/參數更改的終止容差（默認值：1e-9 ）; 同上\n",
        "    line_search_fn=\"strong_wolfe\"       # can be \"strong_wolfe\"\n",
        ")"
      ],
      "metadata": {
        "id": "IvWgbuxcheyj"
      },
      "execution_count": null,
      "outputs": []
    },
    {
      "cell_type": "code",
      "source": [
        "def loss_func_lbfgs():\n",
        "\n",
        "    optimizerLBFGS.zero_grad() # L-BFGS的基本思想是只保存最近的m次迭代信息，从而大大减少數據的儲存空間\n",
        "    global itera\n",
        "    itera += 1\n",
        "\n",
        "    lossLBFGS = loss(model, X_inner_torch)[0]\n",
        "    lossLBFGS_valid = loss(model, X_valid_inner_torch)[0]\n",
        "\n",
        "    if itera % 200 == 0: # 一次迭代----\n",
        "        print(\n",
        "            'Iter %5d, LossLBFGS: %.5e, Loss_Valid: %.5e' % (itera, lossLBFGS.item(), lossLBFGS_valid.item())\n",
        "            )\n",
        "\n",
        "    savedloss.append(lossLBFGS.item())\n",
        "    savedloss_valid.append(lossLBFGS_valid.item())\n",
        "\n",
        "    lossLBFGS.backward(retain_graph = True)\n",
        "\n",
        "    return lossLBFGS"
      ],
      "metadata": {
        "id": "ctogYddqhnGz"
      },
      "execution_count": null,
      "outputs": []
    },
    {
      "cell_type": "code",
      "source": [
        "itera = 0\n",
        "\n",
        "savedloss = []\n",
        "savedloss_valid = []"
      ],
      "metadata": {
        "id": "TAyoI9GfhpuB"
      },
      "execution_count": null,
      "outputs": []
    },
    {
      "cell_type": "code",
      "source": [
        "%%time\n",
        "\n",
        "model.train()\n",
        "\n",
        "lossLBFGS = loss(model, X_inner_torch)[0]\n",
        "lossLBFGS_valid = loss(model, X_valid_inner_torch)[0]\n",
        "\n",
        "\n",
        "print('Iter %5d, LossLBFGS: %.5e, Loss_Valid: %.5e' % (itera, lossLBFGS.item(), lossLBFGS_valid.item()))\n",
        "\n",
        "savedloss.append(lossLBFGS.item())\n",
        "savedloss_valid.append(lossLBFGS_valid.item())\n",
        "\n",
        "# Backward and optimize\n",
        "optimizerLBFGS.step(loss_func_lbfgs)"
      ],
      "metadata": {
        "id": "KCERbRL3hqh4",
        "colab": {
          "base_uri": "https://localhost:8080/"
        },
        "outputId": "98914bf5-decd-4c9b-83ac-1aa11ac15790"
      },
      "execution_count": null,
      "outputs": [
        {
          "output_type": "stream",
          "name": "stdout",
          "text": [
            "Iter  2001, LossLBFGS: 1.60093e+03, Loss_Valid: 1.60301e+03\n",
            "Iter  2200, LossLBFGS: 4.21776e-04, Loss_Valid: 4.77798e-04\n",
            "Iter  2400, LossLBFGS: 1.32178e-05, Loss_Valid: 5.62826e-05\n",
            "Iter  2600, LossLBFGS: 3.22620e-06, Loss_Valid: 4.53751e-05\n",
            "Iter  2800, LossLBFGS: 2.24583e-06, Loss_Valid: 4.55841e-05\n",
            "Iter  3000, LossLBFGS: 1.59474e-06, Loss_Valid: 4.40548e-05\n",
            "Iter  3200, LossLBFGS: 1.56178e-06, Loss_Valid: 4.36571e-05\n",
            "Iter  3400, LossLBFGS: 1.56147e-06, Loss_Valid: 4.36573e-05\n",
            "Iter  3600, LossLBFGS: 1.56130e-06, Loss_Valid: 4.36616e-05\n",
            "Iter  3800, LossLBFGS: 1.56121e-06, Loss_Valid: 4.36581e-05\n",
            "Iter  4000, LossLBFGS: 1.56115e-06, Loss_Valid: 4.36495e-05\n",
            "CPU times: user 11.4 s, sys: 77.9 ms, total: 11.4 s\n",
            "Wall time: 11.5 s\n"
          ]
        },
        {
          "output_type": "execute_result",
          "data": {
            "text/plain": [
              "tensor([[1600.9300]], grad_fn=<AddBackward0>)"
            ]
          },
          "metadata": {},
          "execution_count": 148
        }
      ]
    },
    {
      "cell_type": "markdown",
      "source": [
        "# **Plotting the evolution of loss**"
      ],
      "metadata": {
        "id": "LGxVcX4xhv5A"
      }
    },
    {
      "cell_type": "code",
      "source": [
        "start = 0\n",
        "end = itera\n",
        "idx = list(range(start, end, 1))\n",
        "\n",
        "plt.figure()\n",
        "plt.ylim(10**(-20), 10**5)\n",
        "plt.yscale(\"log\")\n",
        "plt.plot(idx, savedloss[start:end], label = \"training loss\")\n",
        "plt.plot(idx, savedloss_valid[start:end], label = \"validation loss\")\n",
        "plt.xlabel('epoch')\n",
        "plt.ylabel('total loss')\n",
        "plt.legend()\n",
        "plt.show()"
      ],
      "metadata": {
        "id": "6zdBE5vJhzn1",
        "colab": {
          "base_uri": "https://localhost:8080/",
          "height": 449
        },
        "outputId": "57dba624-6408-4e79-d289-14182f7626ae"
      },
      "execution_count": null,
      "outputs": [
        {
          "output_type": "display_data",
          "data": {
            "text/plain": [
              "<Figure size 640x480 with 1 Axes>"
            ],
            "image/png": "[encoded data removed]"
          },
          "metadata": {}
        }
      ]
    },
    {
      "cell_type": "markdown",
      "source": [
        "# **Plot error**"
      ],
      "metadata": {
        "id": "Ej3XWV8uh-xQ"
      }
    },
    {
      "cell_type": "code",
      "source": [
        "# number of testing points\n",
        "N_test = 1000\n",
        "\n",
        "# Error at the interior points\n",
        "x_test = lhs(1, N_test)\n",
        "u_test1, u_test2 = exact_u(x_test)\n",
        "#u_test = exact_u(x_test)\n",
        "\n",
        "\n",
        "x_test_torch = torch.tensor(x_test).double().to(device)\n",
        "u_pred = model(x_test_torch).detach().cpu().numpy()\n",
        "\n",
        "print('error measure')\n",
        "print()\n",
        "\n",
        "#error = np.absolute(u_pred - u_test)\n",
        "error1 = np.abs(u_pred - u_test1)\n",
        "error2 = np.abs(u_pred - u_test2)\n",
        "\n",
        "# error_u_inf_r = np.linalg.norm(error, np.inf)/np.linalg.norm(u_test, np.inf)\n",
        "# print('Error u (relative inf-norm): %e' % (error_u_inf_r))\n",
        "# error_u_2r = np.linalg.norm(error,2)/np.linalg.norm(u_test,2)\n",
        "# print('Error u (relative 2-norm): %e' % (error_u_2r))\n",
        "# error_u_inf = np.linalg.norm(error, np.inf)\n",
        "# print('Error u (absolute inf-norm): %e' % (error_u_inf))\n",
        "# error_u_2 = np.linalg.norm(error,2)/np.sqrt(N_test)\n",
        "# print('Error u (absolute 2-norm): %e' % (error_u_2))"
      ],
      "metadata": {
        "id": "1TOAaQFKiAkl",
        "colab": {
          "base_uri": "https://localhost:8080/"
        },
        "outputId": "cf94f084-4845-43d0-f7de-c42a0c7ba3d5"
      },
      "execution_count": null,
      "outputs": [
        {
          "output_type": "stream",
          "name": "stdout",
          "text": [
            "error measure\n",
            "\n"
          ]
        }
      ]
    },
    {
      "cell_type": "code",
      "source": [
        "# Calculate errors for each exact solution\n",
        "error1 = np.abs(u_pred - u_test1)\n",
        "error2 = np.abs(u_pred - u_test2)\n",
        "\n",
        "# Calculate relative infinity norm error for each solution\n",
        "error_u1_inf_r = np.linalg.norm(error1, np.inf) / np.linalg.norm(u_test1, np.inf)\n",
        "error_u2_inf_r = np.linalg.norm(error2, np.inf) / np.linalg.norm(u_test2, np.inf)\n",
        "# print('Error eu1 (relative inf-norm): %e' % error_u1_inf_r)\n",
        "# print('Error eu2 (relative inf-norm): %e' % error_u2_inf_r)\n",
        "\n",
        "# Calculate relative 2-norm error for each solution\n",
        "error_u1_2r = np.linalg.norm(error1, 2) / np.linalg.norm(u_test1, 2)\n",
        "error_u2_2r = np.linalg.norm(error2, 2) / np.linalg.norm(u_test2, 2)\n",
        "# print('Error eu1 (relative 2-norm): %e' % error_u1_2r)\n",
        "# print('Error eu2 (relative 2-norm): %e' % error_u2_2r)\n",
        "\n",
        "# Calculate absolute infinity norm error for each solution\n",
        "error_u1_inf = np.linalg.norm(error1, np.inf)\n",
        "error_u2_inf = np.linalg.norm(error2, np.inf)\n",
        "# print('Error eu1 (absolute inf-norm): %e' % error_u1_inf)\n",
        "# print('Error eu2 (absolute inf-norm): %e' % error_u2_inf)\n",
        "\n",
        "# Calculate absolute 2-norm error for each solution\n",
        "error_u1_2 = np.linalg.norm(error1, 2) / np.sqrt(N_test)\n",
        "error_u2_2 = np.linalg.norm(error2, 2) / np.sqrt(N_test)\n",
        "# print('Error eu1 (absolute 2-norm): %e' % error_u1_2)\n",
        "# print('Error eu2 (absolute 2-norm): %e' % error_u2_2)\n",
        "\n",
        "print('Error eu1 (relative inf-norm): %e' % error_u1_inf_r)\n",
        "print('Error eu1 (relative 2-norm): %e' % error_u1_2r)\n",
        "print('Error eu1 (absolute inf-norm): %e' % error_u1_inf)\n",
        "print('Error eu1 (absolute 2-norm): %e' % error_u1_2)\n",
        "\n",
        "print(\"                                \")\n",
        "print('Error eu2 (relative inf-norm): %e' % error_u2_inf_r)\n",
        "print('Error eu2 (relative 2-norm): %e' % error_u2_2r)\n",
        "print('Error eu2 (absolute inf-norm): %e' % error_u2_inf)\n",
        "print('Error eu2 (absolute 2-norm): %e' % error_u2_2)\n"
      ],
      "metadata": {
        "colab": {
          "base_uri": "https://localhost:8080/"
        },
        "id": "UrhHSncQ7eB_",
        "outputId": "c05bd014-7a66-4395-ec92-66002c6fd24a"
      },
      "execution_count": null,
      "outputs": [
        {
          "output_type": "stream",
          "name": "stdout",
          "text": [
            "Error eu1 (relative inf-norm): 1.427342e-04\n",
            "Error eu1 (relative 2-norm): 1.516113e-04\n",
            "Error eu1 (absolute inf-norm): 2.833982e-03\n",
            "Error eu1 (absolute 2-norm): 6.778609e-04\n",
            "                                \n",
            "Error eu2 (relative inf-norm): inf\n",
            "Error eu2 (relative 2-norm): inf\n",
            "Error eu2 (absolute inf-norm): 1.985212e+01\n",
            "Error eu2 (absolute 2-norm): 4.470409e+00\n"
          ]
        },
        {
          "output_type": "stream",
          "name": "stderr",
          "text": [
            "<ipython-input-151-595d7322d20c>:7: RuntimeWarning: divide by zero encountered in scalar divide\n",
            "  error_u2_inf_r = np.linalg.norm(error2, np.inf) / np.linalg.norm(u_test2, np.inf)\n",
            "<ipython-input-151-595d7322d20c>:13: RuntimeWarning: divide by zero encountered in scalar divide\n",
            "  error_u2_2r = np.linalg.norm(error2, 2) / np.linalg.norm(u_test2, 2)\n"
          ]
        }
      ]
    },
    {
      "cell_type": "code",
      "source": [
        "# # Setup testing points\n",
        "# N_test = 1000\n",
        "# x_test = lhs(1, N_test).flatten()  # Assuming you want a 1D array for x\n",
        "\n",
        "# # Calculate exact solutions\n",
        "# u_test1, u_test2 = exact_u(x_test)\n",
        "# # Dummy model predictions (replace with your actual model's predictions)\n",
        "# device = torch.device(\"cuda\" if torch.cuda.is_available() else \"cpu\")\n",
        "# x_test_torch = torch.tensor(x_test[:, None]).double().to(device)\n",
        "# u_pred = torch.rand_like(x_test_torch).detach().cpu().numpy().flatten()  # Replace with your model\n"
      ],
      "metadata": {
        "id": "o4V-hrD_7O-A"
      },
      "execution_count": null,
      "outputs": []
    },
    {
      "cell_type": "code",
      "source": [
        "# set up a figure twice as wide as it is tall\n",
        "fig = plt.figure(figsize=plt.figaspect(0.3))\n",
        "\n",
        "#===============\n",
        "#  First subplot\n",
        "#===============\n",
        "# set up the axes for the first plot\n",
        "ax1 = fig.add_subplot(1, 2, 1)\n",
        "ax1.scatter(x_test, u_test1, s=1.0, label=\"Exact eu1\")\n",
        "ax1.scatter(x_test, u_test2, s=1.0, label=\"Exact eu2\")\n",
        "ax1.scatter(x_test, u_pred, s=0.1, label=\"Predictions\")\n",
        "ax1.set_xlabel(\"$x$\")\n",
        "ax1.legend()\n",
        "\n",
        "#===============\n",
        "# Second subplot\n",
        "#===============\n",
        "# set up the axes for the second plot\n",
        "\n",
        "ax2 = fig.add_subplot(1, 2, 2)\n",
        "ax2.scatter(x_test, error1, s=0.1, label=\"Error eu1\")\n",
        "ax2.scatter(x_test, error2, s=0.1, label=\"Error eu2\")\n",
        "ax2.set_ylim(0.0, np.max([error1.max(), error2.max()]))\n",
        "ax2.set_xlabel(\"$x$\")\n",
        "ax2.set_title('Absolute Error')\n",
        "ax2.legend()\n",
        "\n",
        "plt.show()\n",
        "\n"
      ],
      "metadata": {
        "id": "pT8QlbwZiEmV",
        "colab": {
          "base_uri": "https://localhost:8080/",
          "height": 472
        },
        "outputId": "3cf1d65d-1585-44f5-a85d-7240d5a352d2"
      },
      "execution_count": null,
      "outputs": [
        {
          "output_type": "display_data",
          "data": {
            "text/plain": [
              "<Figure size 1600x480 with 2 Axes>"
            ],
            "image/png": "[encoded data removed]"
          },
          "metadata": {}
        }
      ]
    }
  ]
}